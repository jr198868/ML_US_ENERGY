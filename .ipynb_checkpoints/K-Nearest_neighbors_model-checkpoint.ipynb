{
 "cells": [
  {
   "cell_type": "code",
   "execution_count": 1,
   "id": "a995b17a-44ed-43d9-961c-15bff15aba14",
   "metadata": {},
   "outputs": [],
   "source": [
    "from sklearn.neighbors import KNeighborsRegressor\n",
    "from sklearn.metrics import mean_squared_error\n",
    "from sklearn.model_selection import train_test_split\n",
    "from sklearn.metrics import accuracy_score\n",
    "from sklearn.metrics import r2_score, mean_absolute_error, mean_squared_error\n",
    "import pandas as pd\n",
    "import numpy as np\n",
    "import matplotlib.pyplot as plt"
   ]
  },
  {
   "cell_type": "code",
   "execution_count": 2,
   "id": "5755070d-e9bf-42a3-b714-f064e5cb62be",
   "metadata": {},
   "outputs": [],
   "source": [
    "\n",
    "data = pd.read_csv('ml_data_variable.csv')\n",
    "\n",
    "# extract the independent variables (X) and dependent variable (y)\n",
    "X = data[['COAL, Thousand Short Tons', 'NATURALGAS, Billion Cubic Feet', 'ELECTRICITY, Million Kilowatthours',\n",
    "         'PETRO_INDUSTRIAL, Thousand Barrels per Day', 'PETRO_RESIDENTIAL_COMMERCIAL, Thousand Barrels per Day',\n",
    "         'PETRO_TRANSPORTATION_ELECTRICPOWER, Thousand Barrels per Day']]\n",
    "y = data['CO2, Million Metric Tons']\n",
    "\n",
    "X_train, X_test, y_train, y_test = train_test_split(X, y, test_size = 0.3, random_state = 42)\n"
   ]
  },
  {
   "cell_type": "code",
   "execution_count": 3,
   "id": "07cb4db3-1ed9-40af-909c-abd276586f34",
   "metadata": {},
   "outputs": [
    {
     "name": "stdout",
     "output_type": "stream",
     "text": [
      "R² Score: 0.5930966359117931\n",
      "Mean Absolute Error: 23.389901851851846\n",
      "Mean Squared Error: 859.1471022771603\n",
      "Root Mean Squared Error: 29.311211204540154\n"
     ]
    },
    {
     "data": {
      "image/png": "[encoded data removed]",
      "text/plain": [
       "<Figure size 432x288 with 1 Axes>"
      ]
     },
     "metadata": {
      "needs_background": "light"
     },
     "output_type": "display_data"
    },
    {
     "data": {
      "text/plain": [
       "\"\\n\\nScaling of Features: KNN is sensitive to the scale of the features. If the features have different scales, it can impact the distance calculations and the performance of the model. Ensure that the features are appropriately scaled by using techniques such as standardization or normalization.\\n\\nInappropriate Choice of k: The choice of the number of neighbors (k) can significantly affect the performance of KNN. If k is too small, the model may overfit and not generalize well to unseen data, leading to a low R2. On the other hand, if k is too large, the model may underfit and fail to capture the local patterns in the data. Experiment with different values of k to find the optimal balance.\\n\\nOutliers or Noisy Data: Outliers or noisy data points can adversely affect the performance of KNN. They can significantly influence the neighbors' selection and introduce bias in the predictions. Consider identifying and handling outliers or applying noise reduction techniques to improve the model's performance.\\n\\nInsufficient Data: KNN models generally perform better with a larger amount of data. If you have a small dataset, the model may struggle to capture the underlying patterns accurately. Gathering more data or using techniques like cross-validation can help address this issue.\\n\\nIrrelevant Features: Including irrelevant features in the model can introduce noise and negatively impact the performance. Consider carefully selecting the most relevant features and removing any irrelevant ones.\\n\\nMulticollinearity: If the features exhibit high multicollinearity (correlation between features), it can lead to instability and unreliable estimates in KNN. Check for multicollinearity and consider addressing it through techniques such as feature selection or dimensionality reduction.\\n\\n\""
      ]
     },
     "execution_count": 3,
     "metadata": {},
     "output_type": "execute_result"
    }
   ],
   "source": [
    "k = 3\n",
    "knn_regressor = KNeighborsRegressor(n_neighbors=k)\n",
    "knn_regressor.fit(X_train, y_train)\n",
    "\n",
    "# Predict the target variable for the test data\n",
    "y_pred = knn_regressor.predict(X_test)\n",
    "\n",
    "\n",
    "# Calculate evaluation metrics\n",
    "r2 = r2_score(y_test, y_pred)\n",
    "mae = mean_absolute_error(y_test, y_pred)\n",
    "mse = mean_squared_error(y_test, y_pred)\n",
    "rmse = mean_squared_error(y_test, y_pred, squared=False)\n",
    "\n",
    "# Print results\n",
    "\n",
    "print(\"R² Score:\", r2)\n",
    "print(\"Mean Absolute Error:\", mae)\n",
    "print(\"Mean Squared Error:\", mse)\n",
    "print(\"Root Mean Squared Error:\", rmse)\n",
    "\n",
    "\n",
    "# Calculate statistical parameters\n",
    "correlation = np.corrcoef(y_test, y_pred)[0, 1]\n",
    "r_squared = np.square(correlation)\n",
    "\n",
    "# Fit a linear regression line\n",
    "trendline = np.polyfit(y_test, y_pred, 1)\n",
    "trendline_fn = np.poly1d(trendline)\n",
    "\n",
    "# Plot Actual vs Predicted values with trend line\n",
    "plt.scatter(y_test, y_pred, color='blue')\n",
    "plt.plot(y_test, trendline_fn(y_test), color='red', linestyle='--')\n",
    "plt.xlabel('Actual')\n",
    "plt.ylabel('Predicted')\n",
    "plt.title('K-Nearest Neighbors,KNN: Actual vs Predicted')\n",
    "\n",
    "# Annotate statistical parameters on the plot\n",
    "textstr = f'Correlation coefficient: {correlation:.2f}\\nR-squared: {r_squared:.2f}'\n",
    "plt.text(0.05, 0.95, textstr, transform=plt.gca().transAxes, verticalalignment='top')\n",
    "\n",
    "plt.show()\n",
    "\n",
    "'''\n",
    "\n",
    "Scaling of Features: KNN is sensitive to the scale of the features. If the features have different scales, it can impact the distance calculations and the performance of the model. Ensure that the features are appropriately scaled by using techniques such as standardization or normalization.\n",
    "\n",
    "Inappropriate Choice of k: The choice of the number of neighbors (k) can significantly affect the performance of KNN. If k is too small, the model may overfit and not generalize well to unseen data, leading to a low R2. On the other hand, if k is too large, the model may underfit and fail to capture the local patterns in the data. Experiment with different values of k to find the optimal balance.\n",
    "\n",
    "Outliers or Noisy Data: Outliers or noisy data points can adversely affect the performance of KNN. They can significantly influence the neighbors' selection and introduce bias in the predictions. Consider identifying and handling outliers or applying noise reduction techniques to improve the model's performance.\n",
    "\n",
    "Insufficient Data: KNN models generally perform better with a larger amount of data. If you have a small dataset, the model may struggle to capture the underlying patterns accurately. Gathering more data or using techniques like cross-validation can help address this issue.\n",
    "\n",
    "Irrelevant Features: Including irrelevant features in the model can introduce noise and negatively impact the performance. Consider carefully selecting the most relevant features and removing any irrelevant ones.\n",
    "\n",
    "Multicollinearity: If the features exhibit high multicollinearity (correlation between features), it can lead to instability and unreliable estimates in KNN. Check for multicollinearity and consider addressing it through techniques such as feature selection or dimensionality reduction.\n",
    "\n",
    "'''"
   ]
  },
  {
   "cell_type": "code",
   "execution_count": null,
   "id": "fa1277b0-a683-441c-a7da-992767b374ee",
   "metadata": {},
   "outputs": [],
   "source": []
  }
 ],
 "metadata": {
  "kernelspec": {
   "display_name": "Python 3 (ipykernel)",
   "language": "python",
   "name": "python3"
  },
  "language_info": {
   "codemirror_mode": {
    "name": "ipython",
    "version": 3
   },
   "file_extension": ".py",
   "mimetype": "text/x-python",
   "name": "python",
   "nbconvert_exporter": "python",
   "pygments_lexer": "ipython3",
   "version": "3.8.12"
  }
 },
 "nbformat": 4,
 "nbformat_minor": 5
}
