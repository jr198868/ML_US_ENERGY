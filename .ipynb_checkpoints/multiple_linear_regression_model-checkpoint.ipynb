{
 "cells": [
  {
   "cell_type": "code",
   "execution_count": 15,
   "id": "e9410df5-c4bf-4bd1-be92-b8db2601eb00",
   "metadata": {},
   "outputs": [],
   "source": [
    "import pandas as pd\n",
    "import seaborn as sns\n",
    "import matplotlib.pyplot as plt\n",
    "import matplotlib as mpl\n",
    "import statsmodels.api as sm\n",
    "\n",
    "from sklearn.model_selection import train_test_split\n",
    "from sklearn.linear_model import LinearRegression"
   ]
  },
  {
   "cell_type": "code",
   "execution_count": 9,
   "id": "5a87d2a9-5b7a-4d47-86c2-8669f25d006c",
   "metadata": {},
   "outputs": [
    {
     "name": "stdout",
     "output_type": "stream",
     "text": [
      "                               OLS Regression Results                               \n",
      "====================================================================================\n",
      "Dep. Variable:     CO2, Million Metric Tons   R-squared:                       0.967\n",
      "Model:                                  OLS   Adj. R-squared:                  0.967\n",
      "Method:                       Least Squares   F-statistic:                     2917.\n",
      "Date:                      Fri, 21 Apr 2023   Prob (F-statistic):               0.00\n",
      "Time:                              01:28:02   Log-Likelihood:                -2166.0\n",
      "No. Observations:                       600   AIC:                             4346.\n",
      "Df Residuals:                           593   BIC:                             4377.\n",
      "Df Model:                                 6                                         \n",
      "Covariance Type:                  nonrobust                                         \n",
      "================================================================================================================================\n",
      "                                                                   coef    std err          t      P>|t|      [0.025      0.975]\n",
      "--------------------------------------------------------------------------------------------------------------------------------\n",
      "const                                                           41.8057      4.612      9.065      0.000      32.749      50.863\n",
      "COAL, Thousand Short Tons                                        0.0025   2.94e-05     83.778      0.000       0.002       0.003\n",
      "NATURALGAS, Billion Cubic Feet                                   0.0545      0.001     37.663      0.000       0.052       0.057\n",
      "ELECTRICITY, Million Kilowatthours                             2.36e-05   1.37e-05      1.717      0.086   -3.39e-06    5.06e-05\n",
      "PETRO_INDUSTRIAL, Thousand Barrels per Day                       0.0179      0.001     17.129      0.000       0.016       0.020\n",
      "PETRO_RESIDENTIAL_COMMERCIAL, Thousand Barrels per Day           0.0289      0.004      7.018      0.000       0.021       0.037\n",
      "PETRO_TRANSPORTATION_ELECTRICPOWER, Thousand Barrels per Day     0.0168      0.001     12.345      0.000       0.014       0.019\n",
      "==============================================================================\n",
      "Omnibus:                        7.941   Durbin-Watson:                   1.145\n",
      "Prob(Omnibus):                  0.019   Jarque-Bera (JB):                5.094\n",
      "Skew:                          -0.011   Prob(JB):                       0.0783\n",
      "Kurtosis:                       2.549   Cond. No.                     3.68e+06\n",
      "==============================================================================\n",
      "\n",
      "Notes:\n",
      "[1] Standard Errors assume that the covariance matrix of the errors is correctly specified.\n",
      "[2] The condition number is large, 3.68e+06. This might indicate that there are\n",
      "strong multicollinearity or other numerical problems.\n"
     ]
    }
   ],
   "source": [
    "data = pd.read_csv('ml_data_variable.csv')\n",
    "\n",
    "# extract the independent variables (X) and dependent variable (y)\n",
    "X = data[['COAL, Thousand Short Tons', 'NATURALGAS, Billion Cubic Feet', 'ELECTRICITY, Million Kilowatthours',\n",
    "         'PETRO_INDUSTRIAL, Thousand Barrels per Day', 'PETRO_RESIDENTIAL_COMMERCIAL, Thousand Barrels per Day',\n",
    "         'PETRO_TRANSPORTATION_ELECTRICPOWER, Thousand Barrels per Day']]\n",
    "y = data['CO2, Million Metric Tons']\n",
    "\n",
    "# add a constant term to the independent variables\n",
    "X = sm.add_constant(X)\n",
    "\n",
    "# fit the linear regression model\n",
    "model = sm.OLS(y, X).fit()\n",
    "\n",
    "# print the model summary\n",
    "print(model.summary())\n"
   ]
  },
  {
   "cell_type": "code",
   "execution_count": 26,
   "id": "f922ceab-8e07-4fab-b526-3e1ba221aa0e",
   "metadata": {},
   "outputs": [
    {
     "name": "stdout",
     "output_type": "stream",
     "text": [
      "X_train shape: (420, 7)\n",
      "y_train shape: (420,)\n",
      "X_test shape: (180, 7)\n",
      "y_test shape: (180,)\n",
      "=====================\n",
      "Coefficients: [0.00000000e+00 2.46812250e-03 5.40107084e-02 2.22313653e-05\n",
      " 1.75909775e-02 2.57854447e-02 1.71392480e-02]\n",
      "Intercept: 45.736617737721076\n",
      "Mean squared error: 75.95305816150588\n",
      "R-squared: 0.9690328945320782\n"
     ]
    }
   ],
   "source": [
    "\n",
    "from sklearn.utils import shuffle\n",
    "\n",
    "# Shuffle data\n",
    "X, y = shuffle(X, y, random_state = 42)\n",
    "# Split your data into training and testing sets\n",
    "X_train, X_test, y_train, y_test = train_test_split(X, y, test_size = 0.3, random_state = 100)\n",
    "\n",
    "# Check the shape of the training and testing sets\n",
    "print('X_train shape:', X_train.shape)\n",
    "print('y_train shape:', y_train.shape)\n",
    "print('X_test shape:', X_test.shape)\n",
    "print('y_test shape:', y_test.shape)\n",
    "\n",
    "\n",
    "# Create an instance of the LinearRegression class\n",
    "reg = LinearRegression()\n",
    "\n",
    "# Fit the linear regression model to the training data\n",
    "reg.fit(X_train, y_train)\n",
    "\n",
    "# Use the predict method to make predictions on the testing data\n",
    "y_pred = reg.predict(X_test)\n",
    "\n",
    "print('=============================================')\n",
    "\n",
    "from sklearn.metrics import mean_squared_error, r2_score\n",
    "\n",
    "# Evaluate the performance of the model using various metrics\n",
    "mse = mean_squared_error(y_test, y_pred)\n",
    "r2 = r2_score(y_test, y_pred)\n",
    "\n",
    "print('Coefficients:', reg.coef_)\n",
    "print('Intercept:', reg.intercept_)\n",
    "print('Mean squared error:', mse)\n",
    "print('R-squared:', r2)\n"
   ]
  },
  {
   "cell_type": "code",
   "execution_count": null,
   "id": "9fba9a41-1f57-45ed-95fd-ad8551344ce1",
   "metadata": {},
   "outputs": [],
   "source": []
  }
 ],
 "metadata": {
  "kernelspec": {
   "display_name": "Python 3 (ipykernel)",
   "language": "python",
   "name": "python3"
  },
  "language_info": {
   "codemirror_mode": {
    "name": "ipython",
    "version": 3
   },
   "file_extension": ".py",
   "mimetype": "text/x-python",
   "name": "python",
   "nbconvert_exporter": "python",
   "pygments_lexer": "ipython3",
   "version": "3.8.12"
  }
 },
 "nbformat": 4,
 "nbformat_minor": 5
}
